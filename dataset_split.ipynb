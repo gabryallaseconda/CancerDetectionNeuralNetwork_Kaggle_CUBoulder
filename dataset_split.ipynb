{
 "cells": [
  {
   "cell_type": "markdown",
   "metadata": {},
   "source": [
    "# Split the provided label dataset into test and train dataset"
   ]
  },
  {
   "cell_type": "code",
   "execution_count": 40,
   "metadata": {},
   "outputs": [],
   "source": [
    "import pandas as pd\n",
    "import random"
   ]
  },
  {
   "cell_type": "code",
   "execution_count": 41,
   "metadata": {},
   "outputs": [],
   "source": [
    "df = pd.read_csv(\"histopathologic-cancer-detection/train_labels.csv\")"
   ]
  },
  {
   "cell_type": "code",
   "execution_count": 42,
   "metadata": {},
   "outputs": [
    {
     "data": {
      "text/plain": [
       "<bound method NDFrame.head of                                               id  label\n",
       "0       f38a6374c348f90b587e046aac6079959adf3835      0\n",
       "1       c18f2d887b7ae4f6742ee445113fa1aef383ed77      1\n",
       "2       755db6279dae599ebb4d39a9123cce439965282d      0\n",
       "3       bc3f0c64fb968ff4a8bd33af6971ecae77c75e08      0\n",
       "4       068aba587a4950175d04c680d38943fd488d6a9d      0\n",
       "...                                          ...    ...\n",
       "220020  53e9aa9d46e720bf3c6a7528d1fca3ba6e2e49f6      0\n",
       "220021  d4b854fe38b07fe2831ad73892b3cec877689576      1\n",
       "220022  3d046cead1a2a5cbe00b2b4847cfb7ba7cf5fe75      0\n",
       "220023  f129691c13433f66e1e0671ff1fe80944816f5a2      0\n",
       "220024  a81f84895ddcd522302ddf34be02eb1b3e5af1cb      1\n",
       "\n",
       "[220025 rows x 2 columns]>"
      ]
     },
     "execution_count": 42,
     "metadata": {},
     "output_type": "execute_result"
    }
   ],
   "source": [
    "df.head"
   ]
  },
  {
   "cell_type": "code",
   "execution_count": 43,
   "metadata": {},
   "outputs": [],
   "source": [
    "# Set the fraction of data you want to use as test data\n",
    "frac = .1\n",
    "\n",
    "# This generates a list of 0s and 1s, this last with probability frac, 1s will corresponds to the rows selected for testing\n",
    "rows_selected = []\n",
    "for i in range(df.shape[0]):\n",
    "    if random.random() < frac:\n",
    "        rows_selected.append(1)\n",
    "    else:\n",
    "        rows_selected.append(0)"
   ]
  },
  {
   "cell_type": "code",
   "execution_count": 44,
   "metadata": {},
   "outputs": [
    {
     "data": {
      "text/plain": [
       "0.10207930916941256"
      ]
     },
     "execution_count": 44,
     "metadata": {},
     "output_type": "execute_result"
    }
   ],
   "source": [
    "sum(rows_selected) / df.shape[0]"
   ]
  },
  {
   "cell_type": "code",
   "execution_count": 45,
   "metadata": {},
   "outputs": [],
   "source": [
    "df['selected'] = rows_selected"
   ]
  },
  {
   "cell_type": "code",
   "execution_count": 46,
   "metadata": {},
   "outputs": [
    {
     "data": {
      "text/plain": [
       "label\n",
       "0    13439\n",
       "1     9021\n",
       "Name: count, dtype: int64"
      ]
     },
     "execution_count": 46,
     "metadata": {},
     "output_type": "execute_result"
    }
   ],
   "source": [
    "df[df['selected'] == 1].label.value_counts()"
   ]
  },
  {
   "cell_type": "code",
   "execution_count": 47,
   "metadata": {},
   "outputs": [
    {
     "data": {
      "text/plain": [
       "label\n",
       "0    117469\n",
       "1     80096\n",
       "Name: count, dtype: int64"
      ]
     },
     "execution_count": 47,
     "metadata": {},
     "output_type": "execute_result"
    }
   ],
   "source": [
    "df[df['selected'] == 0].label.value_counts()"
   ]
  },
  {
   "cell_type": "code",
   "execution_count": 48,
   "metadata": {},
   "outputs": [],
   "source": [
    "df_test = df[df['selected'] == 1][['id', 'label']]\n",
    "df_test.to_csv('datasets/df_test.csv')"
   ]
  },
  {
   "cell_type": "code",
   "execution_count": 49,
   "metadata": {},
   "outputs": [],
   "source": [
    "df_train = df[df['selected'] == 0][['id', 'label']]\n",
    "df_train.to_csv('datasets/df_train.csv')"
   ]
  }
 ],
 "metadata": {
  "kernelspec": {
   "display_name": "kaggle-cancerdetection-DI779Wwo-py3.11",
   "language": "python",
   "name": "python3"
  },
  "language_info": {
   "codemirror_mode": {
    "name": "ipython",
    "version": 3
   },
   "file_extension": ".py",
   "mimetype": "text/x-python",
   "name": "python",
   "nbconvert_exporter": "python",
   "pygments_lexer": "ipython3",
   "version": "3.11.7"
  }
 },
 "nbformat": 4,
 "nbformat_minor": 2
}

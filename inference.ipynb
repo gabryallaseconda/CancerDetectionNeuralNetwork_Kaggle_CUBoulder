{
 "cells": [
  {
   "cell_type": "markdown",
   "metadata": {},
   "source": [
    "# Inference\n",
    "Get predictions for submission"
   ]
  },
  {
   "cell_type": "code",
   "execution_count": 1,
   "metadata": {},
   "outputs": [],
   "source": [
    "import pandas as pd\n",
    "\n",
    "import torch\n",
    "import torch.nn as nn\n",
    "import torch.optim as optim\n",
    "import pretrainedmodels\n",
    "import pandas as pd\n",
    "import os\n",
    "\n",
    "from tools import *\n"
   ]
  },
  {
   "cell_type": "code",
   "execution_count": 2,
   "metadata": {},
   "outputs": [
    {
     "name": "stdout",
     "output_type": "stream",
     "text": [
      "Setting DEVICE:\n",
      "\t MPS is available\n"
     ]
    }
   ],
   "source": [
    "device = get_device()"
   ]
  },
  {
   "cell_type": "markdown",
   "metadata": {},
   "source": [
    "## Importing label dataset\n",
    "\n",
    "To run the full crossvalidation, remove .head(30000). This will multiply about by 20 the time required by this notebook."
   ]
  },
  {
   "cell_type": "code",
   "execution_count": 3,
   "metadata": {},
   "outputs": [],
   "source": [
    "\n",
    "# FOLDERS PATH\n",
    "source_dir = 'histopathologic-cancer-detection/'\n",
    "test_im_source_dir = source_dir+'/test'\n",
    "\n",
    "# IMPORTING DATA\n",
    "test_data = pd.read_csv(os.path.join(source_dir,'sample_submission.csv')) \n",
    "\n"
   ]
  },
  {
   "cell_type": "code",
   "execution_count": 4,
   "metadata": {},
   "outputs": [],
   "source": [
    "data_ids = list(test_data.id)\n",
    "#data_labels = list(test_data.label)"
   ]
  },
  {
   "cell_type": "markdown",
   "metadata": {},
   "source": [
    "## Loading model"
   ]
  },
  {
   "cell_type": "code",
   "execution_count": 5,
   "metadata": {},
   "outputs": [],
   "source": [
    "model_source_dir = 'trained_model/'\n",
    "model_name = 'final'\n",
    "\n",
    "model_path =  model_source_dir+'/{}.model.pt'.format(model_name)\n"
   ]
  },
  {
   "cell_type": "code",
   "execution_count": 6,
   "metadata": {},
   "outputs": [
    {
     "name": "stderr",
     "output_type": "stream",
     "text": [
      "/Users/gabrielegabrielli/Library/Caches/pypoetry/virtualenvs/neural-networks-_F4AaA2c-py3.10/lib/python3.10/site-packages/torchvision/models/_utils.py:208: UserWarning: The parameter 'pretrained' is deprecated since 0.13 and may be removed in the future, please use 'weights' instead.\n",
      "  warnings.warn(\n",
      "/Users/gabrielegabrielli/Library/Caches/pypoetry/virtualenvs/neural-networks-_F4AaA2c-py3.10/lib/python3.10/site-packages/torchvision/models/_utils.py:223: UserWarning: Arguments other than a weight enum or `None` for 'weights' are deprecated since 0.13 and may be removed in the future. The current behavior is equivalent to passing `weights=None`.\n",
      "  warnings.warn(msg)\n"
     ]
    },
    {
     "data": {
      "text/plain": [
       "<All keys matched successfully>"
      ]
     },
     "execution_count": 6,
     "metadata": {},
     "output_type": "execute_result"
    }
   ],
   "source": [
    "# Import pretrained model\n",
    "base_model = pretrainedmodels.resnet34(num_classes=1000, \n",
    "                                    pretrained='imagenet').to(device) \n",
    "    \n",
    "# Shape the model    \n",
    "model = Net(base_model, 512).to(device)\n",
    "\n",
    "# Load model from saved \n",
    "model.load_state_dict(torch.load(model_path))\n",
    "\n"
   ]
  },
  {
   "cell_type": "markdown",
   "metadata": {},
   "source": [
    "## Inference"
   ]
  },
  {
   "cell_type": "raw",
   "metadata": {},
   "source": [
    "test_loader = torch.utils.data.DataLoader(DataGeneratorInference(\n",
    "                                                data_ids, \n",
    "                                                test_im_source_dir), \n",
    "                                            shuffle=False, \n",
    "                                            pin_memory=False, \n",
    "                                            num_workers=1,\n",
    "                                            batch_size=1) \n",
    "\n",
    "model.eval() \n",
    "\n",
    "predictions = []\n",
    "\n",
    "debug_4 = True # DEBUG\n",
    "\n",
    "with torch.no_grad():\n",
    "    for idx, (imid, image) in enumerate(test_loader):\n",
    "        imid = imid[0]\n",
    "        \n",
    "                \n",
    "        \n",
    "        \n",
    "        if debug_4: # DEBUG\n",
    "            with open('image_inside_inference.pkl', 'wb') as file: # DEBUG\n",
    "                pickle.dump(image, file) # DEBUG\n",
    "                        \n",
    "            debug_4 = False # DEBUG\n",
    "        \n",
    "        \n",
    "        #image = image.numpy()[0]\n",
    "        # TTA : augmentation\n",
    "        images = produce_test_time_augmentation(image,number=8)\n",
    "        \n",
    "        output = model(torch.from_numpy(images).to(device, dtype=torch.float))\n",
    "        \n",
    "        print(output)\n",
    "        \n",
    "\n",
    "        # TTA : averaging the outputs\n",
    "        #output = output.mean()            \n",
    "        \n",
    "\n",
    "        predictions.append({'id': imid, 'label' : output.cpu().numpy()})\n",
    "    \n",
    "    \n",
    "    \n"
   ]
  },
  {
   "cell_type": "code",
   "execution_count": 7,
   "metadata": {},
   "outputs": [],
   "source": [
    "model.eval() \n",
    "predictions = []\n",
    "\n",
    "with torch.no_grad():    \n",
    "    for imid in data_ids:\n",
    "        imid = imid+'.tif'\n",
    "        image = imread(os.path.join(test_im_source_dir, imid))\n",
    "        image = cvtColor(image, COLOR_BGR2RGB)\n",
    "        \n",
    "        # TTA : augmentation\n",
    "        images = produce_test_time_augmentation(image,number=8)\n",
    "        \n",
    "        output = model(torch.from_numpy(images).to(device, dtype=torch.float))\n",
    "        \n",
    "        # TTA : averaging the outputs\n",
    "        output = output.mean()            \n",
    "\n",
    "        predictions.append({'id': imid[:-4], 'label' : output.cpu().numpy()})\n",
    "\n",
    "  \n"
   ]
  },
  {
   "cell_type": "code",
   "execution_count": null,
   "metadata": {},
   "outputs": [],
   "source": []
  },
  {
   "cell_type": "code",
   "execution_count": 8,
   "metadata": {},
   "outputs": [],
   "source": [
    "\n",
    "df = pd.DataFrame(predictions)"
   ]
  },
  {
   "cell_type": "code",
   "execution_count": 9,
   "metadata": {},
   "outputs": [
    {
     "data": {
      "text/html": [
       "<div>\n",
       "<style scoped>\n",
       "    .dataframe tbody tr th:only-of-type {\n",
       "        vertical-align: middle;\n",
       "    }\n",
       "\n",
       "    .dataframe tbody tr th {\n",
       "        vertical-align: top;\n",
       "    }\n",
       "\n",
       "    .dataframe thead th {\n",
       "        text-align: right;\n",
       "    }\n",
       "</style>\n",
       "<table border=\"1\" class=\"dataframe\">\n",
       "  <thead>\n",
       "    <tr style=\"text-align: right;\">\n",
       "      <th></th>\n",
       "      <th>id</th>\n",
       "      <th>label</th>\n",
       "    </tr>\n",
       "  </thead>\n",
       "  <tbody>\n",
       "    <tr>\n",
       "      <th>0</th>\n",
       "      <td>0b2ea2a822ad23fdb1b5dd26653da899fbd2c0d5</td>\n",
       "      <td>0.0006543468</td>\n",
       "    </tr>\n",
       "    <tr>\n",
       "      <th>1</th>\n",
       "      <td>95596b92e5066c5c52466c90b69ff089b39f2737</td>\n",
       "      <td>0.0014875743</td>\n",
       "    </tr>\n",
       "    <tr>\n",
       "      <th>2</th>\n",
       "      <td>248e6738860e2ebcf6258cdc1f32f299e0c76914</td>\n",
       "      <td>0.0005637817</td>\n",
       "    </tr>\n",
       "    <tr>\n",
       "      <th>3</th>\n",
       "      <td>2c35657e312966e9294eac6841726ff3a748febf</td>\n",
       "      <td>0.00025511932</td>\n",
       "    </tr>\n",
       "    <tr>\n",
       "      <th>4</th>\n",
       "      <td>145782eb7caa1c516acbe2eda34d9a3f31c41fd6</td>\n",
       "      <td>0.0031613084</td>\n",
       "    </tr>\n",
       "  </tbody>\n",
       "</table>\n",
       "</div>"
      ],
      "text/plain": [
       "                                         id          label\n",
       "0  0b2ea2a822ad23fdb1b5dd26653da899fbd2c0d5   0.0006543468\n",
       "1  95596b92e5066c5c52466c90b69ff089b39f2737   0.0014875743\n",
       "2  248e6738860e2ebcf6258cdc1f32f299e0c76914   0.0005637817\n",
       "3  2c35657e312966e9294eac6841726ff3a748febf  0.00025511932\n",
       "4  145782eb7caa1c516acbe2eda34d9a3f31c41fd6   0.0031613084"
      ]
     },
     "execution_count": 9,
     "metadata": {},
     "output_type": "execute_result"
    }
   ],
   "source": [
    "df.head()"
   ]
  },
  {
   "cell_type": "code",
   "execution_count": 10,
   "metadata": {},
   "outputs": [],
   "source": [
    "soglia = .5 #df.label.mean()"
   ]
  },
  {
   "cell_type": "code",
   "execution_count": 11,
   "metadata": {},
   "outputs": [],
   "source": [
    "#df['id'] = df['id'].apply(lambda x: x[:-4])\n",
    "df['label'] = df['label'].apply(lambda x: 1 if x > soglia else 0)\n"
   ]
  },
  {
   "cell_type": "code",
   "execution_count": 12,
   "metadata": {},
   "outputs": [],
   "source": [
    "df.to_csv(\"submission.csv\", index=False)"
   ]
  },
  {
   "cell_type": "code",
   "execution_count": null,
   "metadata": {},
   "outputs": [],
   "source": []
  }
 ],
 "metadata": {
  "kernelspec": {
   "display_name": "neural-networks-_F4AaA2c-py3.10",
   "language": "python",
   "name": "python3"
  },
  "language_info": {
   "codemirror_mode": {
    "name": "ipython",
    "version": 3
   },
   "file_extension": ".py",
   "mimetype": "text/x-python",
   "name": "python",
   "nbconvert_exporter": "python",
   "pygments_lexer": "ipython3",
   "version": "3.10.13"
  }
 },
 "nbformat": 4,
 "nbformat_minor": 2
}

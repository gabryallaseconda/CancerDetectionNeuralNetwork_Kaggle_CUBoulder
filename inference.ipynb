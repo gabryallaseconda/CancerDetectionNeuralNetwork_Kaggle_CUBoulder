{
 "cells": [
  {
   "cell_type": "markdown",
   "metadata": {},
   "source": [
    "# Inference\n",
    "Get predictions for submission"
   ]
  },
  {
   "cell_type": "code",
   "execution_count": null,
   "metadata": {},
   "outputs": [],
   "source": [
    "import torch\n",
    "import torch.nn as nn\n",
    "import torch.optim as optim\n",
    "import pretrainedmodels\n",
    "import pandas as pd\n",
    "import os\n",
    "\n",
    "from tools import *\n"
   ]
  },
  {
   "cell_type": "code",
   "execution_count": null,
   "metadata": {},
   "outputs": [],
   "source": [
    "device = get_device()"
   ]
  },
  {
   "cell_type": "markdown",
   "metadata": {},
   "source": [
    "## Importing label dataset\n",
    "\n",
    "To run the full crossvalidation, remove .head(30000). This will multiply about by 20 the time required by this notebook."
   ]
  },
  {
   "cell_type": "code",
   "execution_count": null,
   "metadata": {},
   "outputs": [],
   "source": [
    "\n",
    "# FOLDERS PATH\n",
    "source_dir = 'histopathologic-cancer-detection/'\n",
    "test_im_source_dir = source_dir+'/test'\n",
    "\n",
    "# IMPORTING DATA\n",
    "test_data = pd.read_csv(os.path.join(source_dir,'test_labels.csv')) \n",
    "\n"
   ]
  },
  {
   "cell_type": "code",
   "execution_count": null,
   "metadata": {},
   "outputs": [],
   "source": [
    "data_ids = list(test_data.id)\n",
    "data_labels = list(test_data.label)"
   ]
  },
  {
   "cell_type": "markdown",
   "metadata": {},
   "source": [
    "## Loading model"
   ]
  },
  {
   "cell_type": "code",
   "execution_count": null,
   "metadata": {},
   "outputs": [],
   "source": [
    "model_source_dir = 'trained_model/'\n",
    "model_name = 'final'\n",
    "\n",
    "model_path =  model_source_dir+'/{}.model.pt'.format(model_name)\n"
   ]
  },
  {
   "cell_type": "code",
   "execution_count": null,
   "metadata": {},
   "outputs": [],
   "source": [
    "# Import pretrained model\n",
    "base_model = pretrainedmodels.resnet34(num_classes=1000, \n",
    "                                    pretrained='imagenet').to(device) \n",
    "    \n",
    "# Shape the model    \n",
    "model = Net(base_model, 512).to(device)\n",
    "\n",
    "# Load model from saved \n",
    "model.load_state_dict(torch.load(model_path))\n",
    "\n"
   ]
  },
  {
   "cell_type": "markdown",
   "metadata": {},
   "source": [
    "## Inference"
   ]
  },
  {
   "cell_type": "code",
   "execution_count": null,
   "metadata": {},
   "outputs": [],
   "source": [
    "test_loader = torch.utils.data.DataLoader(DataGenerator(\n",
    "                                                data_ids, \n",
    "                                                data_labels, \n",
    "                                                aug_val(), \n",
    "                                                test_im_source_dir), \n",
    "                                            shuffle=False, \n",
    "                                            pin_memory=False, \n",
    "                                            num_workers=1,\n",
    "                                            batch_size=1) \n",
    "\n",
    "model.eval() \n",
    "\n",
    "predictions = []\n",
    "batch_prediction = []\n",
    "\n",
    "with torch.no_grad():\n",
    "    for batch_idx, (x, target) in enumerate(test_loader):\n",
    "        # Test time augmentation\n",
    "        image = np.rollaxis(x.numpy()[0], 0, 3)\n",
    "        images = produce_test_time_augmentation(image,n_images=8)\n",
    "        \n",
    "        output = model(torch.from_numpy(images).to(device, dtype=torch.float))\n",
    "        output = output.mean()            \n",
    "        #output = protein_model(x.to(device, dtype=torch.float))\n",
    "        batch_prediction[batch_idx] = output\n",
    "    \n",
    "    predictions.append(batch_prediction)    \n",
    "    \n",
    "    \n",
    "\n",
    "predictions = np.vstack(predictions) # get together the batches (one batch contains tta of one image)\n",
    "predictions = np.mean(predictions, axis=0) # mean of tta of one image\n",
    "\n",
    "\n",
    "test_data['label'] = predictions\n",
    "\n",
    "test_data.to_cvs('predictions.csv', sep =',', index = False)"
   ]
  },
  {
   "cell_type": "code",
   "execution_count": null,
   "metadata": {},
   "outputs": [],
   "source": []
  },
  {
   "cell_type": "code",
   "execution_count": null,
   "metadata": {},
   "outputs": [],
   "source": []
  }
 ],
 "metadata": {
  "kernelspec": {
   "display_name": "neural-networks-_F4AaA2c-py3.10",
   "language": "python",
   "name": "python3"
  },
  "language_info": {
   "name": "python",
   "version": "3.10.13"
  }
 },
 "nbformat": 4,
 "nbformat_minor": 2
}
